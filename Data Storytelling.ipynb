{
 "cells": [
  {
   "cell_type": "code",
   "execution_count": 3,
   "id": "878a4054-d881-4f9e-9d53-e009bc2afa18",
   "metadata": {},
   "outputs": [
    {
     "name": "stdout",
     "output_type": "stream",
     "text": [
      "Collecting openpyxl"
     ]
    },
    {
     "name": "stderr",
     "output_type": "stream",
     "text": [
      "\n",
      "[notice] A new release of pip is available: 25.0.1 -> 25.1.1\n",
      "[notice] To update, run: python.exe -m pip install --upgrade pip\n"
     ]
    },
    {
     "name": "stdout",
     "output_type": "stream",
     "text": [
      "\n",
      "  Downloading openpyxl-3.1.5-py2.py3-none-any.whl.metadata (2.5 kB)\n",
      "Collecting et-xmlfile (from openpyxl)\n",
      "  Downloading et_xmlfile-2.0.0-py3-none-any.whl.metadata (2.7 kB)\n",
      "Downloading openpyxl-3.1.5-py2.py3-none-any.whl (250 kB)\n",
      "Downloading et_xmlfile-2.0.0-py3-none-any.whl (18 kB)\n",
      "Installing collected packages: et-xmlfile, openpyxl\n",
      "Successfully installed et-xmlfile-2.0.0 openpyxl-3.1.5\n"
     ]
    }
   ],
   "source": [
    "#!pip install openpyxl"
   ]
  },
  {
   "cell_type": "code",
   "execution_count": 1,
   "id": "caaa1e31-5543-4b2f-8c63-e995c94f2e94",
   "metadata": {},
   "outputs": [],
   "source": [
    "import pandas as pd"
   ]
  },
  {
   "cell_type": "code",
   "execution_count": 6,
   "id": "1d2f1a5b-a335-4340-9151-b6f9ce1c233e",
   "metadata": {},
   "outputs": [
    {
     "name": "stdout",
     "output_type": "stream",
     "text": [
      "  Country Name Continent Country Code  Year  \\\n",
      "0  Afghanistan      Asia          AFG  2004   \n",
      "1  Afghanistan      Asia          AFG  2005   \n",
      "2  Afghanistan      Asia          AFG  2006   \n",
      "3  Afghanistan      Asia          AFG  2007   \n",
      "4  Afghanistan      Asia          AFG  2008   \n",
      "\n",
      "   Access to clean fuels and technologies for cooking (% of population)  \\\n",
      "0                                              0.111                      \n",
      "1                                              0.125                      \n",
      "2                                              0.139                      \n",
      "3                                              0.153                      \n",
      "4                                              0.168                      \n",
      "\n",
      "   Access to electricity (% of population)  \\\n",
      "0                                 0.238142   \n",
      "1                                 0.286697   \n",
      "2                                 0.335444   \n",
      "3                                 0.384400   \n",
      "4                                 0.424000   \n",
      "\n",
      "   Adjusted savings: natural resources depletion (% of GNI)  \\\n",
      "0                                                NaN          \n",
      "1                                                NaN          \n",
      "2                                                NaN          \n",
      "3                                                NaN          \n",
      "4                                                NaN          \n",
      "\n",
      "   Adjusted savings: net forest depletion (% of GNI)  \\\n",
      "0                                                NaN   \n",
      "1                                                NaN   \n",
      "2                                                NaN   \n",
      "3                                                NaN   \n",
      "4                                                NaN   \n",
      "\n",
      "   Agricultural land (% of land area)  \\\n",
      "0                            0.581513   \n",
      "1                            0.581344   \n",
      "2                            0.581237   \n",
      "3                            0.581298   \n",
      "4                            0.581329   \n",
      "\n",
      "   Agriculture, forestry, and fishing, value added (% of GDP)  ...  \\\n",
      "0                                           0.297211           ...   \n",
      "1                                           0.311149           ...   \n",
      "2                                           0.286360           ...   \n",
      "3                                           0.301050           ...   \n",
      "4                                           0.248923           ...   \n",
      "\n",
      "   School enrollment, primary (% gross)  \\\n",
      "0                              1.062527   \n",
      "1                              1.002297   \n",
      "2                              1.039322   \n",
      "3                              1.010865   \n",
      "4                              1.034140   \n",
      "\n",
      "   School enrollment, primary and secondary (gross), gender parity index (GPI)  \\\n",
      "0                                            0.40582                             \n",
      "1                                            0.54769                             \n",
      "2                                            0.57323                             \n",
      "3                                            0.56720                             \n",
      "4                                            0.58602                             \n",
      "\n",
      "   Scientific and technical journal articles  \\\n",
      "0                                       6.75   \n",
      "1                                       9.15   \n",
      "2                                      14.86   \n",
      "3                                      13.23   \n",
      "4                                      12.50   \n",
      "\n",
      "   Standardised Precipitation-Evapotranspiration Index  \\\n",
      "0                                          -0.711262     \n",
      "1                                           0.838650     \n",
      "2                                          -0.381402     \n",
      "3                                          -0.358944     \n",
      "4                                          -1.388464     \n",
      "\n",
      "   Strength of legal rights index (0=weak to 12=strong)  \\\n",
      "0                                                NaN      \n",
      "1                                                NaN      \n",
      "2                                                NaN      \n",
      "3                                                NaN      \n",
      "4                                                NaN      \n",
      "\n",
      "   Terrestrial and marine protected areas (% of total territorial area)  \\\n",
      "0                                                NaN                      \n",
      "1                                                NaN                      \n",
      "2                                                NaN                      \n",
      "3                                                NaN                      \n",
      "4                                                NaN                      \n",
      "\n",
      "   Tree Cover Loss (hectares)  \\\n",
      "0                       201.0   \n",
      "1                       236.0   \n",
      "2                       152.0   \n",
      "3                       253.0   \n",
      "4                       107.0   \n",
      "\n",
      "   Unemployment, total (% of total labor force) (modeled ILO estimate)  \\\n",
      "0                                            0.07926                     \n",
      "1                                            0.07925                     \n",
      "2                                            0.07925                     \n",
      "3                                            0.07924                     \n",
      "4                                            0.07928                     \n",
      "\n",
      "   Unmet need for contraception (% of married women ages 15-49)  \\\n",
      "0                                                NaN              \n",
      "1                                                NaN              \n",
      "2                                                NaN              \n",
      "3                                                NaN              \n",
      "4                                                NaN              \n",
      "\n",
      "   Voice and Accountability: Estimate  \n",
      "0                           -1.203034  \n",
      "1                           -1.125430  \n",
      "2                           -1.110294  \n",
      "3                           -1.057654  \n",
      "4                           -1.168902  \n",
      "\n",
      "[5 rows x 75 columns]\n"
     ]
    }
   ],
   "source": [
    "df = pd.read_excel('ESG_WorldBank_20042023_AllCountries_transposed.xlsx', sheet_name='output')\n",
    "print(df.head())"
   ]
  },
  {
   "cell_type": "code",
   "execution_count": null,
   "id": "6a618377-5ba2-4f37-9a57-31dea2875bad",
   "metadata": {},
   "outputs": [],
   "source": []
  }
 ],
 "metadata": {
  "kernelspec": {
   "display_name": "Python 3 (ipykernel)",
   "language": "python",
   "name": "python3"
  },
  "language_info": {
   "codemirror_mode": {
    "name": "ipython",
    "version": 3
   },
   "file_extension": ".py",
   "mimetype": "text/x-python",
   "name": "python",
   "nbconvert_exporter": "python",
   "pygments_lexer": "ipython3",
   "version": "3.12.6"
  }
 },
 "nbformat": 4,
 "nbformat_minor": 5
}
