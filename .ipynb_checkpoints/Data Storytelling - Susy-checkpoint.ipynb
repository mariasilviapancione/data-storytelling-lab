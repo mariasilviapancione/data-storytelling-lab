{
 "cells": [
  {
   "cell_type": "code",
   "execution_count": 1,
   "metadata": {},
   "outputs": [],
   "source": [
    "#!pip install openpyxl"
   ]
  },
  {
   "cell_type": "code",
   "execution_count": 34,
   "metadata": {},
   "outputs": [],
   "source": [
    "import pandas as pd\n",
    "import numpy as np\n",
    "import matplotlib.pyplot as plt\n",
    "import seaborn as sns"
   ]
  },
  {
   "cell_type": "code",
   "execution_count": 3,
   "metadata": {},
   "outputs": [
    {
     "name": "stdout",
     "output_type": "stream",
     "text": [
      "  Country Name Continent Country Code  Year  \\\n",
      "0  Afghanistan      Asia          AFG  2004   \n",
      "1  Afghanistan      Asia          AFG  2005   \n",
      "2  Afghanistan      Asia          AFG  2006   \n",
      "3  Afghanistan      Asia          AFG  2007   \n",
      "4  Afghanistan      Asia          AFG  2008   \n",
      "\n",
      "   Access to clean fuels and technologies for cooking (% of population)  \\\n",
      "0                                              0.111                      \n",
      "1                                              0.125                      \n",
      "2                                              0.139                      \n",
      "3                                              0.153                      \n",
      "4                                              0.168                      \n",
      "\n",
      "   Access to electricity (% of population)  \\\n",
      "0                                 0.238142   \n",
      "1                                 0.286697   \n",
      "2                                 0.335444   \n",
      "3                                 0.384400   \n",
      "4                                 0.424000   \n",
      "\n",
      "   Adjusted savings: natural resources depletion (% of GNI)  \\\n",
      "0                                                NaN          \n",
      "1                                                NaN          \n",
      "2                                                NaN          \n",
      "3                                                NaN          \n",
      "4                                                NaN          \n",
      "\n",
      "   Adjusted savings: net forest depletion (% of GNI)  \\\n",
      "0                                                NaN   \n",
      "1                                                NaN   \n",
      "2                                                NaN   \n",
      "3                                                NaN   \n",
      "4                                                NaN   \n",
      "\n",
      "   Agricultural land (% of land area)  \\\n",
      "0                            0.581513   \n",
      "1                            0.581344   \n",
      "2                            0.581237   \n",
      "3                            0.581298   \n",
      "4                            0.581329   \n",
      "\n",
      "   Agriculture, forestry, and fishing, value added (% of GDP)  ...  \\\n",
      "0                                           0.297211           ...   \n",
      "1                                           0.311149           ...   \n",
      "2                                           0.286360           ...   \n",
      "3                                           0.301050           ...   \n",
      "4                                           0.248923           ...   \n",
      "\n",
      "   School enrollment, primary (% gross)  \\\n",
      "0                              1.062527   \n",
      "1                              1.002297   \n",
      "2                              1.039322   \n",
      "3                              1.010865   \n",
      "4                              1.034140   \n",
      "\n",
      "   School enrollment, primary and secondary (gross), gender parity index (GPI)  \\\n",
      "0                                            0.40582                             \n",
      "1                                            0.54769                             \n",
      "2                                            0.57323                             \n",
      "3                                            0.56720                             \n",
      "4                                            0.58602                             \n",
      "\n",
      "   Scientific and technical journal articles  \\\n",
      "0                                       6.75   \n",
      "1                                       9.15   \n",
      "2                                      14.86   \n",
      "3                                      13.23   \n",
      "4                                      12.50   \n",
      "\n",
      "   Standardised Precipitation-Evapotranspiration Index  \\\n",
      "0                                          -0.711262     \n",
      "1                                           0.838650     \n",
      "2                                          -0.381402     \n",
      "3                                          -0.358944     \n",
      "4                                          -1.388464     \n",
      "\n",
      "   Strength of legal rights index (0=weak to 12=strong)  \\\n",
      "0                                                NaN      \n",
      "1                                                NaN      \n",
      "2                                                NaN      \n",
      "3                                                NaN      \n",
      "4                                                NaN      \n",
      "\n",
      "   Terrestrial and marine protected areas (% of total territorial area)  \\\n",
      "0                                                NaN                      \n",
      "1                                                NaN                      \n",
      "2                                                NaN                      \n",
      "3                                                NaN                      \n",
      "4                                                NaN                      \n",
      "\n",
      "   Tree Cover Loss (hectares)  \\\n",
      "0                       201.0   \n",
      "1                       236.0   \n",
      "2                       152.0   \n",
      "3                       253.0   \n",
      "4                       107.0   \n",
      "\n",
      "   Unemployment, total (% of total labor force) (modeled ILO estimate)  \\\n",
      "0                                            0.07926                     \n",
      "1                                            0.07925                     \n",
      "2                                            0.07925                     \n",
      "3                                            0.07924                     \n",
      "4                                            0.07928                     \n",
      "\n",
      "   Unmet need for contraception (% of married women ages 15-49)  \\\n",
      "0                                                NaN              \n",
      "1                                                NaN              \n",
      "2                                                NaN              \n",
      "3                                                NaN              \n",
      "4                                                NaN              \n",
      "\n",
      "   Voice and Accountability: Estimate  \n",
      "0                           -1.203034  \n",
      "1                           -1.125430  \n",
      "2                           -1.110294  \n",
      "3                           -1.057654  \n",
      "4                           -1.168902  \n",
      "\n",
      "[5 rows x 75 columns]\n"
     ]
    }
   ],
   "source": [
    "df = pd.read_excel('ESG_WorldBank_20042023_AllCountries_transposed.xlsx', sheet_name='output')\n",
    "print(df.head())"
   ]
  },
  {
   "cell_type": "code",
   "execution_count": 4,
   "metadata": {
    "scrolled": true
   },
   "outputs": [
    {
     "name": "stdout",
     "output_type": "stream",
     "text": [
      "(3820, 75)\n"
     ]
    }
   ],
   "source": [
    "print(df.shape)"
   ]
  },
  {
   "cell_type": "code",
   "execution_count": 9,
   "metadata": {},
   "outputs": [],
   "source": [
    "pd.set_option('display.max_columns', None)\n",
    "pd.set_option('display.max_rows', None)"
   ]
  },
  {
   "cell_type": "code",
   "execution_count": 5,
   "metadata": {},
   "outputs": [],
   "source": [
    "columns_of_interest = ['Country Name', 'Continent','Country Code', 'Year', 'Cause of death, by communicable diseases and maternal, prenatal and nutrition conditions (% of total)', 'Fertility rate, total (births per woman)','Hospital beds (per 1,000 people)','Life expectancy at birth, total (years)','Mortality rate, under-5 (per 1,000 live births)','Population ages 65 and above (% of total population)','Prevalence of undernourishment (% of population)']\n",
    "df_filtered = df[columns_of_interest]"
   ]
  },
  {
   "cell_type": "code",
   "execution_count": 6,
   "metadata": {},
   "outputs": [
    {
     "name": "stdout",
     "output_type": "stream",
     "text": [
      "(3820, 11)\n"
     ]
    }
   ],
   "source": [
    "print(df_filtered.shape)"
   ]
  },
  {
   "cell_type": "code",
   "execution_count": 7,
   "metadata": {},
   "outputs": [
    {
     "name": "stdout",
     "output_type": "stream",
     "text": [
      "['Country Name', 'Continent', 'Country Code', 'Year', 'Cause of death, by communicable diseases and maternal, prenatal and nutrition conditions (% of total)', 'Fertility rate, total (births per woman)', 'Hospital beds (per 1,000 people)', 'Life expectancy at birth, total (years)', 'Mortality rate, under-5 (per 1,000 live births)', 'Population ages 65 and above (% of total population)', 'Prevalence of undernourishment (% of population)']\n"
     ]
    }
   ],
   "source": [
    "print(df_filtered.columns.tolist())"
   ]
  },
  {
   "cell_type": "code",
   "execution_count": 8,
   "metadata": {},
   "outputs": [
    {
     "name": "stdout",
     "output_type": "stream",
     "text": [
      "Cause of death, by communicable diseases and maternal, prenatal and nutrition conditions (% of total)    3277\n",
      "Hospital beds (per 1,000 people)                                                                         2148\n",
      "Prevalence of undernourishment (% of population)                                                          875\n",
      "Life expectancy at birth, total (years)                                                                   640\n",
      "Fertility rate, total (births per woman)                                                                  631\n",
      "Population ages 65 and above (% of total population)                                                      582\n",
      "Mortality rate, under-5 (per 1,000 live births)                                                           400\n",
      "Year                                                                                                        0\n",
      "Country Code                                                                                                0\n",
      "Continent                                                                                                   0\n",
      "Country Name                                                                                                0\n",
      "dtype: int64\n"
     ]
    }
   ],
   "source": [
    "null_counts = df_filtered.isnull().sum()\n",
    "print(null_counts.sort_values(ascending=False))"
   ]
  },
  {
   "cell_type": "code",
   "execution_count": 9,
   "metadata": {},
   "outputs": [],
   "source": [
    "italy_data = df.loc[df['Country Name'] == 'Italy']"
   ]
  },
  {
   "cell_type": "code",
   "execution_count": 10,
   "metadata": {},
   "outputs": [
    {
     "name": "stdout",
     "output_type": "stream",
     "text": [
      "(20, 75)\n"
     ]
    }
   ],
   "source": [
    "print(italy_data.shape)"
   ]
  },
  {
   "cell_type": "code",
   "execution_count": 13,
   "metadata": {},
   "outputs": [
    {
     "name": "stdout",
     "output_type": "stream",
     "text": [
      "Cause of death, by communicable diseases and maternal, prenatal and nutrition conditions (% of total)    17\n",
      "Hospital beds (per 1,000 people)                                                                          5\n",
      "Population ages 65 and above (% of total population)                                                      3\n",
      "Life expectancy at birth, total (years)                                                                   3\n",
      "Fertility rate, total (births per woman)                                                                  3\n",
      "Prevalence of undernourishment (% of population)                                                          2\n",
      "Mortality rate, under-5 (per 1,000 live births)                                                           2\n",
      "Year                                                                                                      0\n",
      "Country Code                                                                                              0\n",
      "Continent                                                                                                 0\n",
      "Country Name                                                                                              0\n",
      "dtype: int64\n"
     ]
    }
   ],
   "source": [
    "null_counts_italy = df_filtered[df_filtered[\"Country Name\"] == \"Italy\"].isnull().sum()\n",
    "print(null_counts_italy.sort_values(ascending=False))"
   ]
  },
  {
   "cell_type": "code",
   "execution_count": 14,
   "metadata": {},
   "outputs": [
    {
     "name": "stdout",
     "output_type": "stream",
     "text": [
      "\n",
      "--- Data for Africa ---\n",
      "Shape: (1080, 11)\n",
      "\n",
      "--- Data for Asia ---\n",
      "Shape: (840, 11)\n",
      "\n",
      "--- Data for Europe ---\n",
      "Shape: (920, 11)\n",
      "\n",
      "--- Data for North America ---\n",
      "Shape: (460, 11)\n",
      "\n",
      "--- Data for Oceania ---\n",
      "Shape: (280, 11)\n",
      "\n",
      "--- Data for South America ---\n",
      "Shape: (240, 11)\n"
     ]
    }
   ],
   "source": [
    "# Group countries by continent\n",
    "grouped_by_continent = df_filtered.groupby('Continent')\n",
    "\n",
    "# Now you can iterate through each continent's data\n",
    "for continent_name, continent_data in grouped_by_continent:\n",
    "    print(f\"\\n--- Data for {continent_name} ---\")\n",
    "    print(f\"Shape: {continent_data.shape}\")"
   ]
  },
  {
   "cell_type": "code",
   "execution_count": 15,
   "metadata": {},
   "outputs": [
    {
     "name": "stdout",
     "output_type": "stream",
     "text": [
      "               Country Name  Continent  Country Code  Year  \\\n",
      "Continent                                                    \n",
      "Africa                    0          0             0     0   \n",
      "Asia                      0          0             0     0   \n",
      "Europe                    0          0             0     0   \n",
      "North America             0          0             0     0   \n",
      "Oceania                   0          0             0     0   \n",
      "South America             0          0             0     0   \n",
      "\n",
      "               Cause of death, by communicable diseases and maternal, prenatal and nutrition conditions (% of total)  \\\n",
      "Continent                                                                                                              \n",
      "Africa                                                       918                                                       \n",
      "Asia                                                         714                                                       \n",
      "Europe                                                       794                                                       \n",
      "North America                                                397                                                       \n",
      "Oceania                                                      250                                                       \n",
      "South America                                                204                                                       \n",
      "\n",
      "               Fertility rate, total (births per woman)  \\\n",
      "Continent                                                 \n",
      "Africa                                              162   \n",
      "Asia                                                126   \n",
      "Europe                                              183   \n",
      "North America                                        69   \n",
      "Oceania                                              55   \n",
      "South America                                        36   \n",
      "\n",
      "               Hospital beds (per 1,000 people)  \\\n",
      "Continent                                         \n",
      "Africa                                      889   \n",
      "Asia                                        401   \n",
      "Europe                                      324   \n",
      "North America                               199   \n",
      "Oceania                                     219   \n",
      "South America                               116   \n",
      "\n",
      "               Life expectancy at birth, total (years)  \\\n",
      "Continent                                                \n",
      "Africa                                             162   \n",
      "Asia                                               126   \n",
      "Europe                                             189   \n",
      "North America                                       69   \n",
      "Oceania                                             58   \n",
      "South America                                       36   \n",
      "\n",
      "               Mortality rate, under-5 (per 1,000 live births)  \\\n",
      "Continent                                                        \n",
      "Africa                                                     108   \n",
      "Asia                                                        84   \n",
      "Europe                                                     110   \n",
      "North America                                               46   \n",
      "Oceania                                                     28   \n",
      "South America                                               24   \n",
      "\n",
      "               Population ages 65 and above (% of total population)  \\\n",
      "Continent                                                             \n",
      "Africa                                                       171      \n",
      "Asia                                                         126      \n",
      "Europe                                                       138      \n",
      "North America                                                 69      \n",
      "Oceania                                                       42      \n",
      "South America                                                 36      \n",
      "\n",
      "               Prevalence of undernourishment (% of population)  \n",
      "Continent                                                        \n",
      "Africa                                                      187  \n",
      "Asia                                                        228  \n",
      "Europe                                                      164  \n",
      "North America                                               136  \n",
      "Oceania                                                     136  \n",
      "South America                                                24  \n"
     ]
    }
   ],
   "source": [
    "nulls_by_continent = df_filtered.groupby('Continent').apply(lambda x: x.isnull().sum())\n",
    "nulls_by_continent = nulls_by_continent.sort_index()\n",
    "print(nulls_by_continent)"
   ]
  },
  {
   "cell_type": "markdown",
   "metadata": {},
   "source": [
    "# Health & Nutrition"
   ]
  },
  {
   "attachments": {},
   "cell_type": "markdown",
   "metadata": {},
   "source": [
    "Start from Cause of death, by communicable diseases and maternal, prenatal and nutrition conditions (% of total) "
   ]
  },
  {
   "cell_type": "code",
   "execution_count": null,
   "metadata": {
    "scrolled": true
   },
   "outputs": [],
   "source": [
    "\n"
   ]
  },
  {
   "cell_type": "code",
   "execution_count": null,
   "metadata": {},
   "outputs": [],
   "source": [
    "\n"
   ]
  },
  {
   "cell_type": "code",
   "execution_count": null,
   "metadata": {},
   "outputs": [],
   "source": []
  },
  {
   "cell_type": "code",
   "execution_count": null,
   "metadata": {},
   "outputs": [],
   "source": []
  },
  {
   "cell_type": "code",
   "execution_count": null,
   "metadata": {},
   "outputs": [],
   "source": []
  },
  {
   "cell_type": "code",
   "execution_count": null,
   "metadata": {},
   "outputs": [],
   "source": []
  }
 ],
 "metadata": {
  "kernelspec": {
   "display_name": "Python 3",
   "language": "python",
   "name": "python3"
  },
  "language_info": {
   "codemirror_mode": {
    "name": "ipython",
    "version": 3
   },
   "file_extension": ".py",
   "mimetype": "text/x-python",
   "name": "python",
   "nbconvert_exporter": "python",
   "pygments_lexer": "ipython3",
   "version": "3.8.5"
  }
 },
 "nbformat": 4,
 "nbformat_minor": 5
}
